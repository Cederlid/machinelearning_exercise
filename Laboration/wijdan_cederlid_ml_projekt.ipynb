{
 "cells": [
  {
   "cell_type": "markdown",
   "metadata": {},
   "source": [
    "<h1>AI-Modell för KokoBananas</h1>"
   ]
  },
  {
   "cell_type": "markdown",
   "metadata": {},
   "source": [
    "---"
   ]
  },
  {
   "cell_type": "markdown",
   "metadata": {},
   "source": [
    "<h3>Import</h3>"
   ]
  },
  {
   "cell_type": "code",
   "execution_count": 6,
   "metadata": {},
   "outputs": [],
   "source": [
    "import numpy as np\n",
    "import pandas as pd\n",
    "import seaborn as sns\n",
    "import matplotlib.pyplot as plt"
   ]
  },
  {
   "cell_type": "markdown",
   "metadata": {},
   "source": [
    "---"
   ]
  },
  {
   "cell_type": "markdown",
   "metadata": {},
   "source": [
    "<h3>Data Exploration</h3>"
   ]
  },
  {
   "cell_type": "code",
   "execution_count": 7,
   "metadata": {},
   "outputs": [
    {
     "name": "stdout",
     "output_type": "stream",
     "text": [
      "<class 'pandas.core.frame.DataFrame'>\n",
      "RangeIndex: 12330 entries, 0 to 12329\n",
      "Data columns (total 19 columns):\n",
      " #   Column                   Non-Null Count  Dtype  \n",
      "---  ------                   --------------  -----  \n",
      " 0   Unnamed: 0               12330 non-null  int64  \n",
      " 1   Administrative           12330 non-null  int64  \n",
      " 2   Administrative_Duration  12330 non-null  float64\n",
      " 3   Informational            12330 non-null  int64  \n",
      " 4   Informational_Duration   12330 non-null  float64\n",
      " 5   ProductRelated           12330 non-null  int64  \n",
      " 6   ProductRelated_Duration  12330 non-null  float64\n",
      " 7   BounceRates              12330 non-null  float64\n",
      " 8   ExitRates                12330 non-null  float64\n",
      " 9   PageValues               12330 non-null  float64\n",
      " 10  SpecialDay               12207 non-null  float64\n",
      " 11  Month                    12330 non-null  object \n",
      " 12  OperatingSystems         12330 non-null  int64  \n",
      " 13  Browser                  12146 non-null  float64\n",
      " 14  Region                   12084 non-null  float64\n",
      " 15  TrafficType              12330 non-null  int64  \n",
      " 16  VisitorType              12330 non-null  object \n",
      " 17  Weekend                  12330 non-null  object \n",
      " 18  Revenue                  12183 non-null  object \n",
      "dtypes: float64(9), int64(6), object(4)\n",
      "memory usage: 1.8+ MB\n",
      "None\n",
      "Unnamed: 0                   0\n",
      "Administrative               0\n",
      "Administrative_Duration      0\n",
      "Informational                0\n",
      "Informational_Duration       0\n",
      "ProductRelated               0\n",
      "ProductRelated_Duration      0\n",
      "BounceRates                  0\n",
      "ExitRates                    0\n",
      "PageValues                   0\n",
      "SpecialDay                 123\n",
      "Month                        0\n",
      "OperatingSystems             0\n",
      "Browser                    184\n",
      "Region                     246\n",
      "TrafficType                  0\n",
      "VisitorType                  0\n",
      "Weekend                      0\n",
      "Revenue                    147\n",
      "dtype: int64\n",
      "         Unnamed: 0  Administrative  Administrative_Duration  Informational  \\\n",
      "count  12330.000000    12330.000000             12330.000000   12330.000000   \n",
      "mean    6164.500000        2.238200              1269.776004       0.503569   \n",
      "std     3559.508744        3.409269             34071.466930       1.270156   \n",
      "min        0.000000      -10.000000                 0.000000       0.000000   \n",
      "25%     3082.250000        0.000000                 0.000000       0.000000   \n",
      "50%     6164.500000        1.000000                 8.000000       0.000000   \n",
      "75%     9246.750000        4.000000                93.787500       0.000000   \n",
      "max    12329.000000       27.000000            989493.000000      24.000000   \n",
      "\n",
      "       Informational_Duration  ProductRelated  ProductRelated_Duration  \\\n",
      "count            12330.000000    12330.000000             12330.000000   \n",
      "mean                34.472398       31.731468              1194.746220   \n",
      "std                140.749294       44.475503              1913.669288   \n",
      "min                  0.000000        0.000000                 0.000000   \n",
      "25%                  0.000000        7.000000               184.137500   \n",
      "50%                  0.000000       18.000000               598.936905   \n",
      "75%                  0.000000       38.000000              1464.157214   \n",
      "max               2549.375000      705.000000             63973.522230   \n",
      "\n",
      "        BounceRates     ExitRates    PageValues   SpecialDay  \\\n",
      "count  12330.000000  12330.000000  12330.000000  12207.00000   \n",
      "mean       0.044239      0.043073      5.889258      0.06126   \n",
      "std        0.239735      0.048597     18.568437      0.19865   \n",
      "min       -0.498680      0.000000      0.000000      0.00000   \n",
      "25%        0.000000      0.014286      0.000000      0.00000   \n",
      "50%        0.002896      0.025156      0.000000      0.00000   \n",
      "75%        0.018029      0.050000      0.000000      0.00000   \n",
      "max        2.098952      0.200000    361.763742      1.00000   \n",
      "\n",
      "       OperatingSystems       Browser        Region   TrafficType  \n",
      "count      12330.000000  12146.000000  12084.000000  12330.000000  \n",
      "mean           2.124006      2.360283      3.145647      4.069586  \n",
      "std            0.911325      1.722001      2.402440      4.025169  \n",
      "min            1.000000      1.000000      1.000000      1.000000  \n",
      "25%            2.000000      2.000000      1.000000      2.000000  \n",
      "50%            2.000000      2.000000      3.000000      2.000000  \n",
      "75%            3.000000      2.000000      4.000000      4.000000  \n",
      "max            8.000000     13.000000      9.000000     20.000000  \n"
     ]
    }
   ],
   "source": [
    "df = pd.read_csv(\"../data/project_data.csv\")\n",
    "print(df.info())\n",
    "print(df.isnull().sum())\n",
    "print(df.describe())"
   ]
  },
  {
   "cell_type": "code",
   "execution_count": 8,
   "metadata": {},
   "outputs": [
    {
     "name": "stdout",
     "output_type": "stream",
     "text": [
      "Index(['Unnamed: 0', 'Administrative', 'Administrative_Duration',\n",
      "       'Informational', 'Informational_Duration', 'ProductRelated',\n",
      "       'ProductRelated_Duration', 'BounceRates', 'ExitRates', 'PageValues',\n",
      "       'SpecialDay', 'Month', 'OperatingSystems', 'Browser', 'Region',\n",
      "       'TrafficType', 'VisitorType', 'Weekend', 'Revenue'],\n",
      "      dtype='object')\n"
     ]
    }
   ],
   "source": [
    "print(df.columns)\n"
   ]
  }
 ],
 "metadata": {
  "kernelspec": {
   "display_name": "machinelearning",
   "language": "python",
   "name": "python3"
  },
  "language_info": {
   "codemirror_mode": {
    "name": "ipython",
    "version": 3
   },
   "file_extension": ".py",
   "mimetype": "text/x-python",
   "name": "python",
   "nbconvert_exporter": "python",
   "pygments_lexer": "ipython3",
   "version": "3.11.11"
  },
  "orig_nbformat": 4
 },
 "nbformat": 4,
 "nbformat_minor": 2
}
