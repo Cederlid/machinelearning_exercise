{
 "cells": [
  {
   "cell_type": "code",
   "execution_count": 1,
   "id": "fc1fc1f6",
   "metadata": {},
   "outputs": [],
   "source": [
    "import numpy as np\n",
    "import pandas as pd"
   ]
  },
  {
   "cell_type": "markdown",
   "id": "131cc8ba",
   "metadata": {},
   "source": [
    "## Feature scaling\n",
    "\n",
    "In Machine Learning, oftentimes it's very important to *scale* our feature data before training on it. \n",
    "\n",
    "To understand why, assume we have a dataset with the following features\n",
    "\n",
    "**age** (18-100 years), \n",
    "\n",
    "**salary** (25.000-75.000 euros) \n",
    "\n",
    "**height** (1-2 meters)"
   ]
  },
  {
   "cell_type": "code",
   "execution_count": 2,
   "id": "846489ed",
   "metadata": {},
   "outputs": [
    {
     "data": {
      "text/html": [
       "<div>\n",
       "<style scoped>\n",
       "    .dataframe tbody tr th:only-of-type {\n",
       "        vertical-align: middle;\n",
       "    }\n",
       "\n",
       "    .dataframe tbody tr th {\n",
       "        vertical-align: top;\n",
       "    }\n",
       "\n",
       "    .dataframe thead th {\n",
       "        text-align: right;\n",
       "    }\n",
       "</style>\n",
       "<table border=\"1\" class=\"dataframe\">\n",
       "  <thead>\n",
       "    <tr style=\"text-align: right;\">\n",
       "      <th></th>\n",
       "      <th>age</th>\n",
       "      <th>salary</th>\n",
       "      <th>height</th>\n",
       "      <th>y</th>\n",
       "    </tr>\n",
       "  </thead>\n",
       "  <tbody>\n",
       "    <tr>\n",
       "      <th>0</th>\n",
       "      <td>21</td>\n",
       "      <td>66418</td>\n",
       "      <td>1.47</td>\n",
       "      <td>7.913421</td>\n",
       "    </tr>\n",
       "    <tr>\n",
       "      <th>1</th>\n",
       "      <td>52</td>\n",
       "      <td>58392</td>\n",
       "      <td>1.73</td>\n",
       "      <td>36.094595</td>\n",
       "    </tr>\n",
       "    <tr>\n",
       "      <th>2</th>\n",
       "      <td>92</td>\n",
       "      <td>61214</td>\n",
       "      <td>1.09</td>\n",
       "      <td>72.551197</td>\n",
       "    </tr>\n",
       "    <tr>\n",
       "      <th>3</th>\n",
       "      <td>86</td>\n",
       "      <td>47487</td>\n",
       "      <td>1.93</td>\n",
       "      <td>74.089446</td>\n",
       "    </tr>\n",
       "    <tr>\n",
       "      <th>4</th>\n",
       "      <td>89</td>\n",
       "      <td>37015</td>\n",
       "      <td>1.83</td>\n",
       "      <td>29.628745</td>\n",
       "    </tr>\n",
       "    <tr>\n",
       "      <th>5</th>\n",
       "      <td>58</td>\n",
       "      <td>41590</td>\n",
       "      <td>1.31</td>\n",
       "      <td>15.946897</td>\n",
       "    </tr>\n",
       "    <tr>\n",
       "      <th>6</th>\n",
       "      <td>35</td>\n",
       "      <td>34393</td>\n",
       "      <td>1.93</td>\n",
       "      <td>97.225487</td>\n",
       "    </tr>\n",
       "    <tr>\n",
       "      <th>7</th>\n",
       "      <td>56</td>\n",
       "      <td>66804</td>\n",
       "      <td>1.93</td>\n",
       "      <td>85.639533</td>\n",
       "    </tr>\n",
       "    <tr>\n",
       "      <th>8</th>\n",
       "      <td>98</td>\n",
       "      <td>62941</td>\n",
       "      <td>1.60</td>\n",
       "      <td>68.327690</td>\n",
       "    </tr>\n",
       "    <tr>\n",
       "      <th>9</th>\n",
       "      <td>73</td>\n",
       "      <td>39694</td>\n",
       "      <td>1.78</td>\n",
       "      <td>57.549878</td>\n",
       "    </tr>\n",
       "  </tbody>\n",
       "</table>\n",
       "</div>"
      ],
      "text/plain": [
       "   age  salary  height          y\n",
       "0   21   66418    1.47   7.913421\n",
       "1   52   58392    1.73  36.094595\n",
       "2   92   61214    1.09  72.551197\n",
       "3   86   47487    1.93  74.089446\n",
       "4   89   37015    1.83  29.628745\n",
       "5   58   41590    1.31  15.946897\n",
       "6   35   34393    1.93  97.225487\n",
       "7   56   66804    1.93  85.639533\n",
       "8   98   62941    1.60  68.327690\n",
       "9   73   39694    1.78  57.549878"
      ]
     },
     "execution_count": 2,
     "metadata": {},
     "output_type": "execute_result"
    }
   ],
   "source": [
    "import random\n",
    "\n",
    "# Generate 10 rows of random data using list comprehension\n",
    "random_data = [{'age': random.randint(18, 100),\n",
    "                'salary': random.randint(25000, 75000),\n",
    "                'height': round(random.uniform(1, 2), 2), \n",
    "                'y': random.uniform(0,100)} \n",
    "                for _ in range(10)]\n",
    "\n",
    "df = pd.DataFrame(random_data)\n",
    "\n",
    "df"
   ]
  },
  {
   "cell_type": "markdown",
   "id": "2304eaee",
   "metadata": {},
   "source": [
    "If we try to use these features into (e.g.,) a linear model that predicts a target *y*, we will have the following\n",
    "\n",
    "$$ y = w_3 \\cdot \\text(age) + w_2 \\cdot \\text(salary) + w_1 \\cdot \\text(height) + w_0 $$\n",
    "\n",
    "We can notice a *risk* here: \n",
    "\n",
    "The contribution to *y* from of the feature Salary might dominate the contribution from the other features, since it's can take on so much larger values than the rest. \n",
    "\n",
    "Even Age runs at risk at dominating height.\n",
    "\n",
    "Many models (not all!) are very sensitive to the scale difference between features. Indeed, the most advanced models (such as Neural Networks) are very sensitive."
   ]
  },
  {
   "cell_type": "markdown",
   "id": "5f2ed956",
   "metadata": {},
   "source": [
    "---\n",
    "\n",
    "## The solution\n",
    "\n",
    "To bypass the above problem, we can *re-scale* our features so that they end up in the aprox. same range.\n",
    "\n",
    "**The good news**\n",
    "\n",
    "This does not affect the inherent relationship between relationship between our features and targets (what we're ultimately trying to modl)at all! \n",
    "\n",
    "Let's test this."
   ]
  },
  {
   "cell_type": "code",
   "execution_count": 3,
   "id": "b0ff9489",
   "metadata": {},
   "outputs": [
    {
     "data": {
      "image/png": "[encoded data removed]",
      "text/plain": [
       "<Figure size 640x480 with 1 Axes>"
      ]
     },
     "metadata": {},
     "output_type": "display_data"
    }
   ],
   "source": [
    "import numpy as np\n",
    "import matplotlib.pyplot as plt\n",
    "\n",
    "X = np.array([x for x in range(21)])\n",
    "y = np.array([3*x**2 for x in X])\n",
    "\n",
    "plt.scatter(X,y)\n",
    "plt.show()"
   ]
  },
  {
   "cell_type": "code",
   "execution_count": 4,
   "id": "764ecbb2",
   "metadata": {},
   "outputs": [
    {
     "data": {
      "image/png": "[encoded data removed]",
      "text/plain": [
       "<Figure size 640x480 with 1 Axes>"
      ]
     },
     "metadata": {},
     "output_type": "display_data"
    }
   ],
   "source": [
    "# now we scale x, by dividing by it's highest value\n",
    "\n",
    "X_scaled = X/max(X)\n",
    "\n",
    "plt.scatter(X_scaled, y)\n",
    "plt.show()"
   ]
  },
  {
   "cell_type": "markdown",
   "id": "d26f8874",
   "metadata": {},
   "source": [
    "Notice that the relationship between our feature and target has not changed at all! Only the scale of the x-values has changed."
   ]
  },
  {
   "cell_type": "markdown",
   "id": "668653c3",
   "metadata": {},
   "source": [
    "**Conclusion:**\n",
    "\n",
    "Feature scaling is required for many machine learning models, but not all model. However, performing feture scaling doesn't hurt performance for the models that don't require it!\n",
    "\n",
    "Therefore, performing feature scaling is *almost* always a good idea!"
   ]
  },
  {
   "cell_type": "markdown",
   "id": "9231d439",
   "metadata": {},
   "source": [
    "---\n",
    "\n",
    "**Types of Feature Scaling**\n",
    "\n",
    "The goal of feature scaling is to bring the values of the features close to the range [-1,1]. It's not super important exactly what range you scale to, we just want to get rid of the massive scale differences that we sometime have.\n",
    "\n",
    "There are several different types of feature scaling methods, one of which we used above.\n",
    "\n",
    "What we did there, since the feature x was strictly positive, is we simply divided it by it's highest value. Simple, and elegant. This scales the feature x down to the range [0,1]. So a strictly positive feature got scaled down to something else strictly positive. Nice.\n",
    "\n",
    "There are however also different methods. One of which is *Standardization*. This is done by performing this transformation on each value in the feature x.\n",
    "\n",
    "$$ x^{scaled} = \\frac{x^{unscaled} - \\bar{x}}{\\sigma_x}$$\n",
    "\n",
    "where $ \\bar{x}$ is the mean value of the feature x, and $\\sigma_x$ is the standard deviation of feature feature x.\n",
    "\n",
    "**På svenska:** Det här kommer transformera alla x-values i vår feature kolumn till 'antal standardavvikelser' from medelvärdet. Kommer ni ihåg från statistiken?"
   ]
  },
  {
   "cell_type": "code",
   "execution_count": 5,
   "id": "45b43fb8",
   "metadata": {},
   "outputs": [
    {
     "data": {
      "image/png": "[encoded data removed]",
      "text/plain": [
       "<Figure size 640x480 with 1 Axes>"
      ]
     },
     "metadata": {},
     "output_type": "display_data"
    }
   ],
   "source": [
    "# Let's us test standardizing a feature column\n",
    "\n",
    "X = np.array([random.randint(-20,20) for x in range(10)])\n",
    "y = np.array([3*x**2 for x in X])\n",
    "\n",
    "plt.scatter(X,y)\n",
    "plt.show()"
   ]
  },
  {
   "cell_type": "code",
   "execution_count": 6,
   "id": "3feb4a2f",
   "metadata": {},
   "outputs": [
    {
     "name": "stdout",
     "output_type": "stream",
     "text": [
      "Mean of x: [-0.7]\n",
      "Std of x: [8.48587061]\n"
     ]
    }
   ],
   "source": [
    "from sklearn.preprocessing import StandardScaler\n",
    "\n",
    "# reshape feature to 2D, since it's required here\n",
    "\n",
    "X = X.reshape(-1,1)\n",
    "\n",
    "scaler = StandardScaler()\n",
    "scaler.fit(X)                       # this line calculates the mean and the standard deviation of the feature\n",
    "\n",
    "print('Mean of x:', scaler.mean_)\n",
    "print('Std of x:', scaler.scale_)"
   ]
  },
  {
   "cell_type": "code",
   "execution_count": 7,
   "id": "0df1397e",
   "metadata": {},
   "outputs": [
    {
     "data": {
      "image/png": "[encoded data removed]",
      "text/plain": [
       "<Figure size 640x480 with 1 Axes>"
      ]
     },
     "metadata": {},
     "output_type": "display_data"
    }
   ],
   "source": [
    "# transform our feature\n",
    "\n",
    "X_standardized = scaler.transform(X)\n",
    "\n",
    "plt.scatter(X_standardized,y)\n",
    "plt.show()\n"
   ]
  },
  {
   "cell_type": "markdown",
   "id": "3e646505",
   "metadata": {},
   "source": [
    "Great, that was easy and we, again, see that the relationship between feature and target has not changed.\n",
    "\n",
    "I usually use standardscaler for features that can take both negative and positive values, while using the method of dividing by the max value for features with strictly positive values.\n",
    "\n",
    "Again, it's not superimportant. Bringing different features to aprox the same range is what's most important."
   ]
  },
  {
   "cell_type": "markdown",
   "id": "051807fe",
   "metadata": {},
   "source": [
    "**BTW**\n",
    "\n",
    "Even for features that can assume negative values - you can actually simply just divide by the absolute highest value there too. For this course, this is enough. You don't really have to work with the Standardscaler above, if you don't want to."
   ]
  },
  {
   "cell_type": "code",
   "execution_count": 8,
   "id": "cb205736",
   "metadata": {},
   "outputs": [
    {
     "data": {
      "image/png": "[encoded data removed]",
      "text/plain": [
       "<Figure size 640x480 with 1 Axes>"
      ]
     },
     "metadata": {},
     "output_type": "display_data"
    }
   ],
   "source": [
    "# Let's us test standardizing a feature column\n",
    "\n",
    "X = np.array([random.randint(-20,20) for x in range(10)])\n",
    "y = np.array([3*x**2 for x in X])\n",
    "\n",
    "plt.scatter(X,y)\n",
    "plt.show()"
   ]
  },
  {
   "cell_type": "code",
   "execution_count": 9,
   "id": "962616ca",
   "metadata": {},
   "outputs": [
    {
     "name": "stdout",
     "output_type": "stream",
     "text": [
      "19\n",
      "-19\n",
      "19\n"
     ]
    },
    {
     "data": {
      "image/png": "[encoded data removed]",
      "text/plain": [
       "<Figure size 640x480 with 1 Axes>"
      ]
     },
     "metadata": {},
     "output_type": "display_data"
    }
   ],
   "source": [
    "print(max(X))\n",
    "\n",
    "print(min(X))\n",
    "\n",
    "absolute_highest_value = max(np.abs(min(X)), np.abs(max(X)))\n",
    "\n",
    "print(absolute_highest_value)\n",
    "\n",
    "X_scaled = X/absolute_highest_value\n",
    "\n",
    "plt.scatter(X_scaled,y)\n",
    "plt.show()"
   ]
  },
  {
   "cell_type": "markdown",
   "id": "43c27bb6",
   "metadata": {},
   "source": [
    "---\n",
    "\n",
    "## Important Caveats\n",
    "\n"
   ]
  },
  {
   "cell_type": "markdown",
   "id": "3c721238",
   "metadata": {},
   "source": [
    "\n",
    "    1. \n",
    "\n",
    "Only scale the features, not the targets! \n",
    "\n",
    "    2. \n",
    "    \n",
    "**Very important**\n",
    "\n",
    "Only ever use statistics from the Train set to perform scaling! Never ever use statistics from the test set. The reason is that this causes what call *data leakage* in which information from the test set (which is supposed to be completely unseen) leaks into the training data. This can give us very optimistic (but severly misleading) results when we try to interpret the performance on the test set.\n",
    "\n",
    "Here's how to do it correctly:"
   ]
  },
  {
   "cell_type": "code",
   "execution_count": 10,
   "id": "352d4c4b",
   "metadata": {},
   "outputs": [
    {
     "data": {
      "image/png": "[encoded data removed]",
      "text/plain": [
       "<Figure size 640x480 with 1 Axes>"
      ]
     },
     "metadata": {},
     "output_type": "display_data"
    }
   ],
   "source": [
    "# create data, again\n",
    "\n",
    "X = np.array([x for x in range(-21, 21)])\n",
    "y = np.array([3*x**2 for x in X])\n",
    "\n",
    "plt.scatter(X,y)\n",
    "plt.show()"
   ]
  },
  {
   "cell_type": "code",
   "execution_count": 11,
   "id": "b31fd3df",
   "metadata": {},
   "outputs": [
    {
     "name": "stdout",
     "output_type": "stream",
     "text": [
      "(33, 1)\n",
      "(33, 1)\n",
      "(9, 1)\n",
      "(9, 1)\n"
     ]
    }
   ],
   "source": [
    "from sklearn.model_selection import train_test_split\n",
    "\n",
    "test_size = 0.2\n",
    "\n",
    "X_train, X_test, y_train, y_test = train_test_split(X,\n",
    "                                                    y,\n",
    "                                                    test_size=test_size, \n",
    "                                                    random_state=42)\n",
    "\n",
    "\n",
    "X_train = X_train.reshape(-1,1)\n",
    "X_test = X_test.reshape(-1,1)\n",
    "\n",
    "y_train = y_train.reshape(-1,1)\n",
    "y_test = y_test.reshape(-1,1)\n",
    "\n",
    "print(X_train.shape)\n",
    "print(y_train.shape)\n",
    "\n",
    "print(X_test.shape)\n",
    "print(y_test.shape)"
   ]
  },
  {
   "cell_type": "markdown",
   "id": "0eb1ff4d",
   "metadata": {},
   "source": [
    "Now we start the process of scaling our feature. \n",
    "\n",
    "**Note that we only calculate the mean and std on the train set**, but that we then apply it to both the train and test sets.\n",
    " "
   ]
  },
  {
   "cell_type": "code",
   "execution_count": 12,
   "id": "c8ee7c70",
   "metadata": {},
   "outputs": [],
   "source": [
    "scaler = StandardScaler()\n",
    "scaler.fit(X_train)             # calculate mean and std of the train set\n",
    "\n",
    "X_train_scaled = scaler.transform(X_train)        # transform the train set using the statistic above\n",
    "X_test_scaled = scaler.transform(X_test)          # transform the test set using the same statistics above"
   ]
  },
  {
   "cell_type": "markdown",
   "id": "ec41ce1b",
   "metadata": {},
   "source": [
    "**Alternative 2**\n",
    "\n",
    "Dividing by absolutely max value, instead of using Standarscaler"
   ]
  },
  {
   "cell_type": "code",
   "execution_count": 13,
   "id": "46a48de2",
   "metadata": {},
   "outputs": [
    {
     "name": "stdout",
     "output_type": "stream",
     "text": [
      "[21]\n"
     ]
    }
   ],
   "source": [
    "absolute_highest_value = max(np.abs(min(X_train)), np.abs(max(X_train)))\n",
    "\n",
    "print(absolute_highest_value)\n",
    "\n",
    "X_train_scaled = X_train/absolute_highest_value\n",
    "X_test_scaled = X_test/absolute_highest_value"
   ]
  },
  {
   "cell_type": "markdown",
   "id": "6acc8a8d",
   "metadata": {},
   "source": [
    "Great - we are now ready to train our model using this scaled feature!\n",
    "\n",
    "It's as simple as\n",
    "\n",
    "model.fit(X_train_scaled, y_train)\n",
    "\n",
    "and the\n",
    "\n",
    "model.predict(X_train_scaled)\n",
    "\n",
    "model.predict(X_test_scaled)"
   ]
  },
  {
   "cell_type": "markdown",
   "id": "36ede755",
   "metadata": {},
   "source": [
    "---\n",
    "\n",
    "We have actually seen scaled features before, most recently in the bike demand data set"
   ]
  },
  {
   "cell_type": "code",
   "execution_count": 15,
   "id": "602a94fc",
   "metadata": {},
   "outputs": [],
   "source": [
    "import pandas as pd\n",
    "\n",
    "df = pd.read_csv('../data/bike/hour.csv')"
   ]
  },
  {
   "cell_type": "markdown",
   "id": "9bdad4d2",
   "metadata": {},
   "source": [
    "Have a look at e.g., the features temp and atemp. They are scaled. \n",
    "\n",
    "It even says so if you take a look at the [documentation.](https://archive.ics.uci.edu/dataset/275/bike+sharing+dataset)"
   ]
  },
  {
   "cell_type": "code",
   "execution_count": 16,
   "id": "08455208",
   "metadata": {},
   "outputs": [
    {
     "data": {
      "text/html": [
       "<div>\n",
       "<style scoped>\n",
       "    .dataframe tbody tr th:only-of-type {\n",
       "        vertical-align: middle;\n",
       "    }\n",
       "\n",
       "    .dataframe tbody tr th {\n",
       "        vertical-align: top;\n",
       "    }\n",
       "\n",
       "    .dataframe thead th {\n",
       "        text-align: right;\n",
       "    }\n",
       "</style>\n",
       "<table border=\"1\" class=\"dataframe\">\n",
       "  <thead>\n",
       "    <tr style=\"text-align: right;\">\n",
       "      <th></th>\n",
       "      <th>instant</th>\n",
       "      <th>dteday</th>\n",
       "      <th>season</th>\n",
       "      <th>yr</th>\n",
       "      <th>mnth</th>\n",
       "      <th>hr</th>\n",
       "      <th>holiday</th>\n",
       "      <th>weekday</th>\n",
       "      <th>workingday</th>\n",
       "      <th>weathersit</th>\n",
       "      <th>temp</th>\n",
       "      <th>atemp</th>\n",
       "      <th>hum</th>\n",
       "      <th>windspeed</th>\n",
       "      <th>casual</th>\n",
       "      <th>registered</th>\n",
       "      <th>cnt</th>\n",
       "    </tr>\n",
       "  </thead>\n",
       "  <tbody>\n",
       "    <tr>\n",
       "      <th>0</th>\n",
       "      <td>1</td>\n",
       "      <td>2011-01-01</td>\n",
       "      <td>1</td>\n",
       "      <td>0</td>\n",
       "      <td>1</td>\n",
       "      <td>0</td>\n",
       "      <td>0</td>\n",
       "      <td>6</td>\n",
       "      <td>0</td>\n",
       "      <td>1</td>\n",
       "      <td>0.24</td>\n",
       "      <td>0.2879</td>\n",
       "      <td>0.81</td>\n",
       "      <td>0.0000</td>\n",
       "      <td>3</td>\n",
       "      <td>13</td>\n",
       "      <td>16</td>\n",
       "    </tr>\n",
       "    <tr>\n",
       "      <th>1</th>\n",
       "      <td>2</td>\n",
       "      <td>2011-01-01</td>\n",
       "      <td>1</td>\n",
       "      <td>0</td>\n",
       "      <td>1</td>\n",
       "      <td>1</td>\n",
       "      <td>0</td>\n",
       "      <td>6</td>\n",
       "      <td>0</td>\n",
       "      <td>1</td>\n",
       "      <td>0.22</td>\n",
       "      <td>0.2727</td>\n",
       "      <td>0.80</td>\n",
       "      <td>0.0000</td>\n",
       "      <td>8</td>\n",
       "      <td>32</td>\n",
       "      <td>40</td>\n",
       "    </tr>\n",
       "    <tr>\n",
       "      <th>2</th>\n",
       "      <td>3</td>\n",
       "      <td>2011-01-01</td>\n",
       "      <td>1</td>\n",
       "      <td>0</td>\n",
       "      <td>1</td>\n",
       "      <td>2</td>\n",
       "      <td>0</td>\n",
       "      <td>6</td>\n",
       "      <td>0</td>\n",
       "      <td>1</td>\n",
       "      <td>0.22</td>\n",
       "      <td>0.2727</td>\n",
       "      <td>0.80</td>\n",
       "      <td>0.0000</td>\n",
       "      <td>5</td>\n",
       "      <td>27</td>\n",
       "      <td>32</td>\n",
       "    </tr>\n",
       "    <tr>\n",
       "      <th>3</th>\n",
       "      <td>4</td>\n",
       "      <td>2011-01-01</td>\n",
       "      <td>1</td>\n",
       "      <td>0</td>\n",
       "      <td>1</td>\n",
       "      <td>3</td>\n",
       "      <td>0</td>\n",
       "      <td>6</td>\n",
       "      <td>0</td>\n",
       "      <td>1</td>\n",
       "      <td>0.24</td>\n",
       "      <td>0.2879</td>\n",
       "      <td>0.75</td>\n",
       "      <td>0.0000</td>\n",
       "      <td>3</td>\n",
       "      <td>10</td>\n",
       "      <td>13</td>\n",
       "    </tr>\n",
       "    <tr>\n",
       "      <th>4</th>\n",
       "      <td>5</td>\n",
       "      <td>2011-01-01</td>\n",
       "      <td>1</td>\n",
       "      <td>0</td>\n",
       "      <td>1</td>\n",
       "      <td>4</td>\n",
       "      <td>0</td>\n",
       "      <td>6</td>\n",
       "      <td>0</td>\n",
       "      <td>1</td>\n",
       "      <td>0.24</td>\n",
       "      <td>0.2879</td>\n",
       "      <td>0.75</td>\n",
       "      <td>0.0000</td>\n",
       "      <td>0</td>\n",
       "      <td>1</td>\n",
       "      <td>1</td>\n",
       "    </tr>\n",
       "    <tr>\n",
       "      <th>...</th>\n",
       "      <td>...</td>\n",
       "      <td>...</td>\n",
       "      <td>...</td>\n",
       "      <td>...</td>\n",
       "      <td>...</td>\n",
       "      <td>...</td>\n",
       "      <td>...</td>\n",
       "      <td>...</td>\n",
       "      <td>...</td>\n",
       "      <td>...</td>\n",
       "      <td>...</td>\n",
       "      <td>...</td>\n",
       "      <td>...</td>\n",
       "      <td>...</td>\n",
       "      <td>...</td>\n",
       "      <td>...</td>\n",
       "      <td>...</td>\n",
       "    </tr>\n",
       "    <tr>\n",
       "      <th>17374</th>\n",
       "      <td>17375</td>\n",
       "      <td>2012-12-31</td>\n",
       "      <td>1</td>\n",
       "      <td>1</td>\n",
       "      <td>12</td>\n",
       "      <td>19</td>\n",
       "      <td>0</td>\n",
       "      <td>1</td>\n",
       "      <td>1</td>\n",
       "      <td>2</td>\n",
       "      <td>0.26</td>\n",
       "      <td>0.2576</td>\n",
       "      <td>0.60</td>\n",
       "      <td>0.1642</td>\n",
       "      <td>11</td>\n",
       "      <td>108</td>\n",
       "      <td>119</td>\n",
       "    </tr>\n",
       "    <tr>\n",
       "      <th>17375</th>\n",
       "      <td>17376</td>\n",
       "      <td>2012-12-31</td>\n",
       "      <td>1</td>\n",
       "      <td>1</td>\n",
       "      <td>12</td>\n",
       "      <td>20</td>\n",
       "      <td>0</td>\n",
       "      <td>1</td>\n",
       "      <td>1</td>\n",
       "      <td>2</td>\n",
       "      <td>0.26</td>\n",
       "      <td>0.2576</td>\n",
       "      <td>0.60</td>\n",
       "      <td>0.1642</td>\n",
       "      <td>8</td>\n",
       "      <td>81</td>\n",
       "      <td>89</td>\n",
       "    </tr>\n",
       "    <tr>\n",
       "      <th>17376</th>\n",
       "      <td>17377</td>\n",
       "      <td>2012-12-31</td>\n",
       "      <td>1</td>\n",
       "      <td>1</td>\n",
       "      <td>12</td>\n",
       "      <td>21</td>\n",
       "      <td>0</td>\n",
       "      <td>1</td>\n",
       "      <td>1</td>\n",
       "      <td>1</td>\n",
       "      <td>0.26</td>\n",
       "      <td>0.2576</td>\n",
       "      <td>0.60</td>\n",
       "      <td>0.1642</td>\n",
       "      <td>7</td>\n",
       "      <td>83</td>\n",
       "      <td>90</td>\n",
       "    </tr>\n",
       "    <tr>\n",
       "      <th>17377</th>\n",
       "      <td>17378</td>\n",
       "      <td>2012-12-31</td>\n",
       "      <td>1</td>\n",
       "      <td>1</td>\n",
       "      <td>12</td>\n",
       "      <td>22</td>\n",
       "      <td>0</td>\n",
       "      <td>1</td>\n",
       "      <td>1</td>\n",
       "      <td>1</td>\n",
       "      <td>0.26</td>\n",
       "      <td>0.2727</td>\n",
       "      <td>0.56</td>\n",
       "      <td>0.1343</td>\n",
       "      <td>13</td>\n",
       "      <td>48</td>\n",
       "      <td>61</td>\n",
       "    </tr>\n",
       "    <tr>\n",
       "      <th>17378</th>\n",
       "      <td>17379</td>\n",
       "      <td>2012-12-31</td>\n",
       "      <td>1</td>\n",
       "      <td>1</td>\n",
       "      <td>12</td>\n",
       "      <td>23</td>\n",
       "      <td>0</td>\n",
       "      <td>1</td>\n",
       "      <td>1</td>\n",
       "      <td>1</td>\n",
       "      <td>0.26</td>\n",
       "      <td>0.2727</td>\n",
       "      <td>0.65</td>\n",
       "      <td>0.1343</td>\n",
       "      <td>12</td>\n",
       "      <td>37</td>\n",
       "      <td>49</td>\n",
       "    </tr>\n",
       "  </tbody>\n",
       "</table>\n",
       "<p>17379 rows × 17 columns</p>\n",
       "</div>"
      ],
      "text/plain": [
       "       instant      dteday  season  yr  mnth  hr  holiday  weekday  \\\n",
       "0            1  2011-01-01       1   0     1   0        0        6   \n",
       "1            2  2011-01-01       1   0     1   1        0        6   \n",
       "2            3  2011-01-01       1   0     1   2        0        6   \n",
       "3            4  2011-01-01       1   0     1   3        0        6   \n",
       "4            5  2011-01-01       1   0     1   4        0        6   \n",
       "...        ...         ...     ...  ..   ...  ..      ...      ...   \n",
       "17374    17375  2012-12-31       1   1    12  19        0        1   \n",
       "17375    17376  2012-12-31       1   1    12  20        0        1   \n",
       "17376    17377  2012-12-31       1   1    12  21        0        1   \n",
       "17377    17378  2012-12-31       1   1    12  22        0        1   \n",
       "17378    17379  2012-12-31       1   1    12  23        0        1   \n",
       "\n",
       "       workingday  weathersit  temp   atemp   hum  windspeed  casual  \\\n",
       "0               0           1  0.24  0.2879  0.81     0.0000       3   \n",
       "1               0           1  0.22  0.2727  0.80     0.0000       8   \n",
       "2               0           1  0.22  0.2727  0.80     0.0000       5   \n",
       "3               0           1  0.24  0.2879  0.75     0.0000       3   \n",
       "4               0           1  0.24  0.2879  0.75     0.0000       0   \n",
       "...           ...         ...   ...     ...   ...        ...     ...   \n",
       "17374           1           2  0.26  0.2576  0.60     0.1642      11   \n",
       "17375           1           2  0.26  0.2576  0.60     0.1642       8   \n",
       "17376           1           1  0.26  0.2576  0.60     0.1642       7   \n",
       "17377           1           1  0.26  0.2727  0.56     0.1343      13   \n",
       "17378           1           1  0.26  0.2727  0.65     0.1343      12   \n",
       "\n",
       "       registered  cnt  \n",
       "0              13   16  \n",
       "1              32   40  \n",
       "2              27   32  \n",
       "3              10   13  \n",
       "4               1    1  \n",
       "...           ...  ...  \n",
       "17374         108  119  \n",
       "17375          81   89  \n",
       "17376          83   90  \n",
       "17377          48   61  \n",
       "17378          37   49  \n",
       "\n",
       "[17379 rows x 17 columns]"
      ]
     },
     "execution_count": 16,
     "metadata": {},
     "output_type": "execute_result"
    }
   ],
   "source": [
    "df"
   ]
  },
  {
   "cell_type": "markdown",
   "id": "4dfe42b7",
   "metadata": {},
   "source": [
    "**Fantastic, now you know how to perform feature scaling! It's a good habit to do it.**"
   ]
  },
  {
   "cell_type": "markdown",
   "id": "916486f2",
   "metadata": {},
   "source": [
    "**Warning: do NOT scale categorical features (ask Sunny why)**"
   ]
  },
  {
   "cell_type": "markdown",
   "id": "b103d2e6",
   "metadata": {},
   "source": []
  }
 ],
 "metadata": {
  "kernelspec": {
   "display_name": "machinelearning",
   "language": "python",
   "name": "python3"
  },
  "language_info": {
   "codemirror_mode": {
    "name": "ipython",
    "version": 3
   },
   "file_extension": ".py",
   "mimetype": "text/x-python",
   "name": "python",
   "nbconvert_exporter": "python",
   "pygments_lexer": "ipython3",
   "version": "3.11.11"
  }
 },
 "nbformat": 4,
 "nbformat_minor": 5
}
